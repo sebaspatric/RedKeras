{
  "nbformat": 4,
  "nbformat_minor": 0,
  "metadata": {
    "colab": {
      "provenance": []
    },
    "kernelspec": {
      "name": "python3",
      "display_name": "Python 3"
    },
    "language_info": {
      "name": "python"
    }
  },
  "cells": [
    {
      "cell_type": "markdown",
      "metadata": {
        "id": "aUGEJhCF7mDG"
      },
      "source": [
        "# MÓDULO 7: undamentos del Deep Learning\n",
        "\n",
        "\n",
        "- Nombre alumno: Sebastián Menares Arriaza\n"
      ]
    },
    {
      "cell_type": "markdown",
      "source": [
        "# Tema : Redes Neuronales"
      ],
      "metadata": {
        "id": "-TmuGqSNK9_G"
      }
    },
    {
      "cell_type": "markdown",
      "source": [
        "1. Defina lo siguiente:\n",
        "a. Inteligencia Artificial\n",
        "b. Machine learning\n",
        "c. Deep learning\n",
        "2. Explique en no más de 5 líneas el concepto de red neuronal para alguien que no usa ciencia de datos en su vida, dicho de otro modo, explique el concepto anterior en términos simples."
      ],
      "metadata": {
        "id": "xMhoMFApXfXf"
      }
    },
    {
      "cell_type": "markdown",
      "source": [
        "1. **Definiciones:**\n",
        "   - **Inteligencia Artificial:** Es la rama de la informática que se enfoca en desarrollar sistemas capaces de realizar tareas que normalmente requieren inteligencia humana, como el reconocimiento de voz, la toma de decisiones o el aprendizaje.\n",
        "   - **Machine Learning:** Es una subdisciplina de la inteligencia artificial que se centra en desarrollar algoritmos y técnicas que permiten a las computadoras aprender patrones y tomar decisiones a partir de datos, sin ser explícitamente programadas.\n",
        "   - **Deep Learning:** Es una técnica dentro del machine learning que utiliza redes neuronales artificiales con múltiples capas para aprender representaciones de datos con múltiples niveles de abstracción, permitiendo el aprendizaje de características complejas directamente de los datos.\n",
        "\n",
        "2. **Explicación de Redes Neuronales:**\n",
        "   Una red neuronal es como una caja negra que puede aprender a realizar tareas complejas a partir de ejemplos. Imagina una red de amigos que te ayudan a tomar decisiones. Cada amigo tiene cierta experiencia y pasa su opinión a los siguientes amigos. Al final, obtienes una respuesta combinada basada en las opiniones de todos tus amigos. En una red neuronal, estos \"amigos\" son como nodos que procesan información, y las conexiones entre ellos son como las relaciones que aprenden de los ejemplos que les das. La red se entrena con muchos ejemplos para que pueda tomar decisiones o hacer predicciones por sí misma."
      ],
      "metadata": {
        "id": "oattb6npz3GI"
      }
    },
    {
      "cell_type": "markdown",
      "source": [
        "# Recursos Bibliográficos:\n",
        "\n",
        "[1] [Qué es el Deep Learning](https://www.youtube.com/watch?v=s0SbvGiG28w)\n",
        "\n",
        "[2] [Diferencias: Machine learning, Deep learning e Inteligencia artificial](https://www.youtube.com/watch?v=THrgrb-3lsM)\n",
        "\n",
        "[3] [Inteligencia artificial](https://www.simplilearn.com/tutorials/artificial-intelligence-tutorial/ai-vs-machine-learning-vs-deep-learning#:~:text=Artificial%20Intelligence%20is%20the%20concept,algorithms%20to%20train%20a%20model.)\n",
        "\n",
        "[4] [Neural netwoks](https://www.ibm.com/cloud/learn/neural-networks)\n",
        "\n",
        "[5] [Aplicaciones de Redes neuronales](https://www.datacentric.es/blog/insight/red-neuronal-artificial-aplicaciones/)\n",
        "\n"
      ],
      "metadata": {
        "id": "iXHSId3NiAi6"
      }
    }
  ]
}